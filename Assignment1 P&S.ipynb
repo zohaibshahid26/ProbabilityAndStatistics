{
 "cells": [
  {
   "cell_type": "code",
   "execution_count": 1,
   "id": "e4fd0493",
   "metadata": {},
   "outputs": [],
   "source": [
    "from itertools import combinations\n",
    "import numpy as np"
   ]
  },
  {
   "cell_type": "code",
   "execution_count": 2,
   "id": "a55f5a85",
   "metadata": {},
   "outputs": [],
   "source": [
    "def get_sub_lists (Sample_Space):\n",
    "    sublists = []  \n",
    "    for i in range(1,len(Sample_Space)):\n",
    "        sublists+= [list(j) for j in combinations(Sample_Space, i)]\n",
    "    return sublists"
   ]
  },
  {
   "cell_type": "code",
   "execution_count": 3,
   "id": "b4c47404",
   "metadata": {},
   "outputs": [],
   "source": [
    "def Intersection(list1, list2):\n",
    "    intersection = []\n",
    "    intersection = list(set(list1) & set(list2))\n",
    "    return intersection"
   ]
  },
  {
   "cell_type": "code",
   "execution_count": 4,
   "id": "7f30b475",
   "metadata": {},
   "outputs": [],
   "source": [
    "def compute_probability(sublist,sample_space,probability_list):\n",
    "    sum=0\n",
    "    for i in range (len(sublist)):\n",
    "        index=sample_space.index(sublist[i])\n",
    "        if index != None:\n",
    "            sum+=probability_list[index]\n",
    "    return round(sum,1)"
   ]
  },
  {
   "cell_type": "code",
   "execution_count": 5,
   "id": "db40b89d",
   "metadata": {},
   "outputs": [],
   "source": [
    "def get_sample_space(n):\n",
    "    sample_space = []\n",
    "    i=0\n",
    "    while(i<n):\n",
    "        element=int(input())\n",
    "        if element not in sample_space:\n",
    "            sample_space.append(element)\n",
    "            i=i+1\n",
    "        else:\n",
    "            print(\"Enter unique element..!\")\n",
    "    return sample_space"
   ]
  },
  {
   "cell_type": "code",
   "execution_count": 6,
   "id": "f253ee6a",
   "metadata": {},
   "outputs": [],
   "source": [
    "def get_probabilities(n,sample_space):\n",
    "    probabilities=[]\n",
    "    sum=0\n",
    "    i=0\n",
    "    while(i<n):\n",
    "        probability=float(input(\"Enter the probability of \"+str(sample_space[i])+\": \"))\n",
    "        if probability<=0.0:\n",
    "            print(\"Enter probability greater than zero\")\n",
    "        else:\n",
    "            sum+=probability\n",
    "            probabilities.append(probability)\n",
    "            i=i+1\n",
    "            if not np.isclose(sum,1.0,rtol=1e-6) and i==n:\n",
    "                print(\"Probabilities sum must be equal to 1. Enter the probabilities again\")\n",
    "                i=0\n",
    "                sum=0\n",
    "                probabilities=[]\n",
    "                continue \n",
    "    return probabilities"
   ]
  },
  {
   "cell_type": "code",
   "execution_count": 7,
   "id": "6689735b",
   "metadata": {},
   "outputs": [],
   "source": [
    "def get_independant_events(sample_space,sublists,probabilities):\n",
    "    for a in range(0,len(sublists)):\n",
    "        Pa=compute_probability(sublists[a],sample_space,probabilities)\n",
    "        for b in range(a+1,len(sublists)):\n",
    "            Pb=compute_probability(sublists[b],sample_space,probabilities)\n",
    "            Paib=compute_probability(Intersection(sublists[a],sublists[b]),sample_space,probabilities)\n",
    "            if Pa*Pb==Paib:\n",
    "                print(str(sublists[a])+ \" and \"+ str(sublists[b])+\" are indepentdant to each other\")"
   ]
  },
  {
   "cell_type": "code",
   "execution_count": 8,
   "id": "4d6b27ce",
   "metadata": {},
   "outputs": [],
   "source": [
    "def get_conditionally_independant_events(sample_space,sublists,probabilities):\n",
    "    for a in range (0,len(sublists)):\n",
    "        for b in range (a+1,len(sublists)):\n",
    "            AiB=Intersection(sublists[a],sublists[b])\n",
    "            for c in range (0,len(sublists)):\n",
    "                Pc=compute_probability(sublists[c],sample_space,probabilities)\n",
    "                AiBiC=Intersection(AiB,sublists[c])\n",
    "                P_AiBiC=compute_probability(AiBiC,sample_space,probabilities)\n",
    "                P_AiC=compute_probability(Intersection(sublists[a],sublists[c]),sample_space,probabilities)\n",
    "                P_BiC=compute_probability(Intersection(sublists[b],sublists[c]),sample_space,probabilities)\n",
    "                P_AiB_given_C = P_AiBiC/Pc\n",
    "                P_A_given_C = P_AiC/Pc\n",
    "                P_B_given_C = P_BiC/Pc\n",
    "                if P_AiB_given_C == P_A_given_C*P_B_given_C:\n",
    "                    print(str(sublists[a])+\" , \"+ str(sublists[b])+\" and \"+str(sublists[c])+\" are conditionally independant\")"
   ]
  },
  {
   "cell_type": "markdown",
   "id": "0c482e13",
   "metadata": {},
   "source": [
    "# Main"
   ]
  },
  {
   "cell_type": "code",
   "execution_count": null,
   "id": "5a2c8a77",
   "metadata": {
    "scrolled": true
   },
   "outputs": [],
   "source": [
    "n = int(input(\"Enter number of elements : \"))\n",
    "sample_space=get_sample_space(n)\n",
    "probabilities=get_probabilities(n,sample_space)\n",
    "sublists=get_sub_lists(sample_space)\n",
    "print(\"Sample Space is : \" + str(sample_space))\n",
    "print(\"Probabilities List is: \"+ str(probabilities))\n",
    "get_independant_events(sample_space,sublists,probabilities)\n",
    "get_conditionally_independant_events(sample_space,sublists,probabilities)"
   ]
  },
  {
   "cell_type": "markdown",
   "id": "01931568",
   "metadata": {},
   "source": [
    "# "
   ]
  }
 ],
 "metadata": {
  "kernelspec": {
   "display_name": "Python 3 (ipykernel)",
   "language": "python",
   "name": "python3"
  },
  "language_info": {
   "codemirror_mode": {
    "name": "ipython",
    "version": 3
   },
   "file_extension": ".py",
   "mimetype": "text/x-python",
   "name": "python",
   "nbconvert_exporter": "python",
   "pygments_lexer": "ipython3",
   "version": "3.9.13"
  }
 },
 "nbformat": 4,
 "nbformat_minor": 5
}
